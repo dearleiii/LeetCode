{
 "cells": [
  {
   "cell_type": "code",
   "execution_count": 9,
   "metadata": {},
   "outputs": [],
   "source": [
    "\"\"\"\n",
    "    Step 1: Cut the right most k bits for num1, num2 -> bit1, bit2\n",
    "    Step 2: XOR based swap rule\n",
    "        new_bit1 = bit1 ^ (bit1 ^ bit2) = bit2\n",
    "        new_bit2 = bit2 ^ (bit1 ^ bit2) = bit1\n",
    "\"\"\"\n",
    "def swap_lsb_kbits(num1, num2, k):\n",
    "    # Get the right most k bits  \n",
    "    bit1 = ((num1 >> k) << k) ^ num1\n",
    "    bit2 = ((num2 >> k) << k) ^ num2\n",
    "    \n",
    "    # XOR based swap rule \n",
    "    x = bit1 ^ bit2\n",
    "    \n",
    "    res_n1 = num1 ^ x\n",
    "    res_n2 = num2 ^ x\n",
    "    \n",
    "    return res_n1, res_n2\n"
   ]
  },
  {
   "cell_type": "code",
   "execution_count": 10,
   "metadata": {},
   "outputs": [
    {
     "name": "stdout",
     "output_type": "stream",
     "text": [
      "29 12\n"
     ]
    }
   ],
   "source": [
    "new1, new2 = swap_lsb_kbits(28, 13, 2)\n",
    "print(new1, new2)"
   ]
  }
 ],
 "metadata": {
  "kernelspec": {
   "display_name": "Python 3",
   "language": "python",
   "name": "python3"
  },
  "language_info": {
   "codemirror_mode": {
    "name": "ipython",
    "version": 3
   },
   "file_extension": ".py",
   "mimetype": "text/x-python",
   "name": "python",
   "nbconvert_exporter": "python",
   "pygments_lexer": "ipython3",
   "version": "3.6.8"
  }
 },
 "nbformat": 4,
 "nbformat_minor": 2
}
