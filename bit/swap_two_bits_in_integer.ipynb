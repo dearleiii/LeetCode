{
 "cells": [
  {
   "cell_type": "code",
   "execution_count": 5,
   "metadata": {},
   "outputs": [],
   "source": [
    "\"\"\"\n",
    "    Only need to swap the two bits when they are different \n",
    "    XOR based rule: \n",
    "        - pos1: ori1 ^ (ori1 ^ ori2) = ori2\n",
    "        - pos2: ori2 ^ (ori1 ^ ori2) = ori1\n",
    "\"\"\"\n",
    "def swap_bits(num, p1, p2): \n",
    "    # Get the two bits at given position \n",
    "    bit1 = (num >> p1) & 1\n",
    "    bit2 = (num >> p2) & 1\n",
    "    \n",
    "    # Swap the two bits by XOR\n",
    "    x = bit1 ^ bit2 \n",
    "    \n",
    "    # Form a number with the swapped bits \n",
    "    new_number = (x << p1) | (x << p2)\n",
    "    \n",
    "    # Swap the orginal number by XOR \n",
    "    result = num ^ new_number \n",
    "    return result \n",
    "    "
   ]
  },
  {
   "cell_type": "code",
   "execution_count": 7,
   "metadata": {},
   "outputs": [
    {
     "data": {
      "text/plain": [
       "21"
      ]
     },
     "execution_count": 7,
     "metadata": {},
     "output_type": "execute_result"
    }
   ],
   "source": [
    "num = swap_bits(28, 0, 3)\n",
    "num"
   ]
  },
  {
   "cell_type": "code",
   "execution_count": null,
   "metadata": {},
   "outputs": [],
   "source": []
  }
 ],
 "metadata": {
  "kernelspec": {
   "display_name": "Python 3",
   "language": "python",
   "name": "python3"
  },
  "language_info": {
   "codemirror_mode": {
    "name": "ipython",
    "version": 3
   },
   "file_extension": ".py",
   "mimetype": "text/x-python",
   "name": "python",
   "nbconvert_exporter": "python",
   "pygments_lexer": "ipython3",
   "version": "3.6.8"
  }
 },
 "nbformat": 4,
 "nbformat_minor": 2
}
